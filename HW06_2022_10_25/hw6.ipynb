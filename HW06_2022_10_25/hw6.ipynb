{
 "cells": [
  {
   "cell_type": "markdown",
   "metadata": {},
   "source": [
    "Problem1   "
   ]
  },
  {
   "cell_type": "code",
   "execution_count": 1,
   "metadata": {},
   "outputs": [
    {
     "data": {
      "text/plain": [
       "' Compute an ensemble (at least 1000) of standard Brownian paths W(t) over the interval\\n[0,1] partitioned into N = 600 time steps. Plot the empirically determined mean and\\nstandard deviation of the ensemble as a function of time. In the same figure, plot 10\\nsample paths. '"
      ]
     },
     "execution_count": 1,
     "metadata": {},
     "output_type": "execute_result"
    }
   ],
   "source": [
    "\"\"\" Compute an ensemble (at least 1000) of standard Brownian paths W(t) over the interval\n",
    "[0,1] partitioned into N = 600 time steps. Plot the empirically determined mean and\n",
    "standard deviation of the ensemble as a function of time. In the same figure, plot 10\n",
    "sample paths. \"\"\""
   ]
  },
  {
   "cell_type": "code",
   "execution_count": 3,
   "metadata": {},
   "outputs": [
    {
     "name": "stdout",
     "output_type": "stream",
     "text": [
      "(1000, 601)\n",
      "[[ 0.         -0.04989968 -0.07935652 ...  2.00506393  1.92703476\n",
      "   1.91931171]\n",
      " [ 0.         -0.09013482 -0.08374361 ...  0.44387944  0.46020852\n",
      "   0.42588748]\n",
      " [ 0.          0.06589905  0.12070982 ... -0.9818229  -0.96758422\n",
      "  -1.01124646]\n",
      " ...\n",
      " [ 0.         -0.00704197  0.09363979 ... -1.41483939 -1.41144271\n",
      "  -1.37915094]\n",
      " [ 0.         -0.02492854 -0.00446404 ... -1.52823746 -1.60391358\n",
      "  -1.65412425]\n",
      " [ 0.         -0.05400435 -0.01772445 ... -1.13602245 -1.13766451\n",
      "  -1.213805  ]]\n"
     ]
    }
   ],
   "source": [
    "# ensemble of Standard Brownian paths\n",
    "# W(t) over the interval [0,1] partitioned into N = 600 time steps\n",
    "# empirically determined mean and standard deviation of the ensemble as a function of time\n",
    "# 10 sample paths\n",
    "\n",
    "import numpy as np\n",
    "import matplotlib.pyplot as plt\n",
    "\n",
    "# number of paths\n",
    "N = 1000\n",
    "# number of time steps\n",
    "M = 600\n",
    "# time step\n",
    "dt = 1/M\n",
    "# time\n",
    "t = np.linspace(0,1,M+1)\n",
    "# Brownian paths\n",
    "def Brownian(N,M,dt):\n",
    "    W = np.zeros((N,M+1))\n",
    "    for i in range(N):\n",
    "        for j in range(M):\n",
    "            W[i,j+1] = W[i,j] + np.sqrt(dt)*np.random.normal(0,1)\n",
    "    return W\n",
    "\n",
    "W = Brownian(N,M,dt)\n",
    "print(W.shape)\n",
    "print(W)\n"
   ]
  },
  {
   "cell_type": "code",
   "execution_count": null,
   "metadata": {},
   "outputs": [],
   "source": []
  }
 ],
 "metadata": {
  "kernelspec": {
   "display_name": "Python 3.10.6 64-bit",
   "language": "python",
   "name": "python3"
  },
  "language_info": {
   "codemirror_mode": {
    "name": "ipython",
    "version": 3
   },
   "file_extension": ".py",
   "mimetype": "text/x-python",
   "name": "python",
   "nbconvert_exporter": "python",
   "pygments_lexer": "ipython3",
   "version": "3.10.6"
  },
  "orig_nbformat": 4,
  "vscode": {
   "interpreter": {
    "hash": "aee8b7b246df8f9039afb4144a1f6fd8d2ca17a180786b69acc140d282b71a49"
   }
  }
 },
 "nbformat": 4,
 "nbformat_minor": 2
}
